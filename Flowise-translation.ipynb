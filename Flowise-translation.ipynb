{
 "cells": [
  {
   "cell_type": "code",
   "execution_count": 3,
   "id": "77db94c0",
   "metadata": {},
   "outputs": [],
   "source": [
    "import requests\n",
    "\n",
    "API_URL = \"http://localhost:3000/api/v1/prediction/0cb9f8d3-5f0f-4c9e-bd1b-fd871b5102c8\"\n",
    "\n",
    "def query(payload):\n",
    "    response = requests.post(API_URL, json=payload)\n",
    "    return response.json()\n",
    "    \n",
    "output = query({\n",
    "    \"question\": \"Can u please explain me about the current recession in AI/ML domain\",\n",
    "})"
   ]
  },
  {
   "cell_type": "code",
   "execution_count": 4,
   "id": "2fd30409",
   "metadata": {},
   "outputs": [
    {
     "name": "stdout",
     "output_type": "stream",
     "text": [
      " हाल के वर्षों में AI/ML क्षेत्र में मंदी के कुछ संकेत दिखाई दे रहे हैं। इसके कुछ कारण हैं:\n",
      "\n",
      "1. AI से जुड़ी अतिरंजित उम्मीदें: कुछ वर्षों पहले AI को लेकर बहुत अधिक उम्मीदें और हाइप थी। लेकिन वास्तविकता में तकनीक की प्रगति उम्मीदों से कहीं कम रही है। इससे निवेशकों में निराशा हुई है।\n",
      "\n",
      "2. अत्यधिक निवेश: कुछ साल पहले AI स्टार्टअप्स में बहुत अधिक निवेश हुआ था। लेकिन अब निवेशक सतर्क हो गए हैं। वे पहले की तरह निवेश नहीं कर रहे हैं।\n",
      "\n",
      "3. व्यावहारिक चुनौतियां: AI मॉडलों को व्यावहारिक रूप से लागू करना कठिन है। डेटा की कमी, बाधाएं और नियामकीय चुनौतियां ऐसे कारक हैं जो व्यावहारिक रूप से AI को अपनाने में बाधक हैं।\n",
      "\n",
      "ये कुछ कारण हैं जिनसे AI/ML क्षेत्र में मंदी के संकेत मिल रहे हैं। हालांकि, दीर्घकाल में यह क्षेत्र फिर से तेजी से बढ़ने की क्षमता रखता है।\n"
     ]
    }
   ],
   "source": [
    "print(output)"
   ]
  }
 ],
 "metadata": {
  "kernelspec": {
   "display_name": "Python 3 (ipykernel)",
   "language": "python",
   "name": "python3"
  },
  "language_info": {
   "codemirror_mode": {
    "name": "ipython",
    "version": 3
   },
   "file_extension": ".py",
   "mimetype": "text/x-python",
   "name": "python",
   "nbconvert_exporter": "python",
   "pygments_lexer": "ipython3",
   "version": "3.10.9"
  }
 },
 "nbformat": 4,
 "nbformat_minor": 5
}
